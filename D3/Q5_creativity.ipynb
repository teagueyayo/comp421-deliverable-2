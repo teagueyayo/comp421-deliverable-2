{
 "cells": [
  {
   "cell_type": "code",
   "execution_count": 1,
   "metadata": {},
   "outputs": [],
   "source": [
    "import matplotlib.pyplot as plt\n",
    "from numpy import random"
   ]
  },
  {
   "cell_type": "code",
   "execution_count": 3,
   "metadata": {},
   "outputs": [
    {
     "name": "stdout",
     "output_type": "stream",
     "text": [
      "['.DS_Store', 'data-sales.csv', 'data-house.csv']\n"
     ]
    }
   ],
   "source": [
    "import os\n",
    "import pandas as pd\n",
    "print(os.listdir(\"../../pgadmin_tables\"))\n",
    "\n",
    "pgadmin_tables = os.listdir(\"../../pgadmin_tables\") \n",
    "data = []\n",
    "\n",
    "for item in pgadmin_tables:\n",
    "    if \".csv\" in item: data.append(item)"
   ]
  },
  {
   "cell_type": "code",
   "execution_count": 4,
   "metadata": {},
   "outputs": [],
   "source": [
    "# set _csv as data-sales and house as data-house-size-price\n",
    "for item in data:\n",
    "    if 'sales' in item:\n",
    "        _csv = pd.read_csv(\"../../pgadmin_tables/\" + item)\n",
    "    if 'house' in item:\n",
    "        house = pd.read_csv(\"../../pgadmin_tables/\" + item)"
   ]
  },
  {
   "cell_type": "code",
   "execution_count": 5,
   "metadata": {},
   "outputs": [
    {
     "name": "stdout",
     "output_type": "stream",
     "text": [
      "['price', 'aname', 'csin', 'laddress']\n",
      "     price        aname\n",
      "0   295000  Agent Simon\n",
      "1  3450000   Agent Josh\n",
      "2   349000  Agent Katie\n",
      "3   389000   Agent Dave\n",
      "4  1150000   Agent Rome\n",
      "5  1200000   Agent Rome\n",
      "6  1300000   Agent Rome\n",
      "7  8000000   Agent Dave\n",
      "8  2000000  Agent Katie\n",
      "9  3000000  Agent Katie\n"
     ]
    }
   ],
   "source": [
    "# me being dumb because literally i could have just\n",
    "# selected the columns i wanted in the query\n",
    "col = list(_csv.columns)\n",
    "print(col)\n",
    "\n",
    "df1 = _csv[[col[0], col[1]]]\n",
    "print(df1)\n",
    "\n",
    "# this was the query btw:\n",
    "# select * from sells\n",
    "sales = _csv[col[0]].tolist()\n",
    "sales = [x for x in sales]\n",
    "agents = _csv[col[1]].tolist()\n",
    "agents = [x[6:] for x in agents]"
   ]
  },
  {
   "cell_type": "code",
   "execution_count": 6,
   "metadata": {},
   "outputs": [
    {
     "name": "stdout",
     "output_type": "stream",
     "text": [
      "{'Simon': 295000, 'Josh': 3450000, 'Katie': 5349000, 'Dave': 8389000, 'Rome': 3650000}\n"
     ]
    },
    {
     "data": {
      "image/png": "[encoded data removed]",
      "text/plain": [
       "<Figure size 432x288 with 1 Axes>"
      ]
     },
     "metadata": {
      "needs_background": "light"
     },
     "output_type": "display_data"
    }
   ],
   "source": [
    "# Check if an agent has multiple sales \n",
    "dataset = {}\n",
    "for i in range(len(agents)):\n",
    "    if agents[i] not in dataset:\n",
    "        dataset[agents[i]] = sales[i]\n",
    "    else:\n",
    "        dataset[agents[i]] += sales[i]\n",
    "        \n",
    "print(dataset)\n",
    "\n",
    "plt.title(\"Total Agent Sales\", fontsize = 20)\n",
    "plt.xlabel(\"Agent Name\")\n",
    "plt.ylabel(\"Sales ($)\")\n",
    "\n",
    "plt.bar(dataset.keys(), dataset.values())\n",
    "plt.show()"
   ]
  },
  {
   "cell_type": "code",
   "execution_count": 18,
   "metadata": {},
   "outputs": [
    {
     "data": {
      "text/html": [
       "<div>\n",
       "<style scoped>\n",
       "    .dataframe tbody tr th:only-of-type {\n",
       "        vertical-align: middle;\n",
       "    }\n",
       "\n",
       "    .dataframe tbody tr th {\n",
       "        vertical-align: top;\n",
       "    }\n",
       "\n",
       "    .dataframe thead th {\n",
       "        text-align: right;\n",
       "    }\n",
       "</style>\n",
       "<table border=\"1\" class=\"dataframe\">\n",
       "  <thead>\n",
       "    <tr style=\"text-align: right;\">\n",
       "      <th></th>\n",
       "      <th>address</th>\n",
       "      <th>list_price</th>\n",
       "      <th>size</th>\n",
       "    </tr>\n",
       "  </thead>\n",
       "  <tbody>\n",
       "    <tr>\n",
       "      <th>0</th>\n",
       "      <td>404 Apprtment Building St. App. 201</td>\n",
       "      <td>210000</td>\n",
       "      <td>1200</td>\n",
       "    </tr>\n",
       "    <tr>\n",
       "      <th>1</th>\n",
       "      <td>303 Apprtment Building St. App. 1A</td>\n",
       "      <td>340000</td>\n",
       "      <td>1600</td>\n",
       "    </tr>\n",
       "    <tr>\n",
       "      <th>2</th>\n",
       "      <td>505 Apprtment Building St. App. 32</td>\n",
       "      <td>230000</td>\n",
       "      <td>1150</td>\n",
       "    </tr>\n",
       "    <tr>\n",
       "      <th>3</th>\n",
       "      <td>101 Apprtment Building St. App. 1101</td>\n",
       "      <td>90000</td>\n",
       "      <td>600</td>\n",
       "    </tr>\n",
       "    <tr>\n",
       "      <th>4</th>\n",
       "      <td>202 House Rd.</td>\n",
       "      <td>350000</td>\n",
       "      <td>2400</td>\n",
       "    </tr>\n",
       "    <tr>\n",
       "      <th>5</th>\n",
       "      <td>101 House Rd.</td>\n",
       "      <td>320000</td>\n",
       "      <td>2100</td>\n",
       "    </tr>\n",
       "    <tr>\n",
       "      <th>6</th>\n",
       "      <td>303 House Rd.</td>\n",
       "      <td>3500000</td>\n",
       "      <td>5300</td>\n",
       "    </tr>\n",
       "    <tr>\n",
       "      <th>7</th>\n",
       "      <td>404 House Rd.</td>\n",
       "      <td>1200000</td>\n",
       "      <td>3400</td>\n",
       "    </tr>\n",
       "    <tr>\n",
       "      <th>8</th>\n",
       "      <td>502 House Rd.</td>\n",
       "      <td>490000</td>\n",
       "      <td>3100</td>\n",
       "    </tr>\n",
       "    <tr>\n",
       "      <th>9</th>\n",
       "      <td>404 Apprtment Building St. App. 101</td>\n",
       "      <td>115000</td>\n",
       "      <td>800</td>\n",
       "    </tr>\n",
       "    <tr>\n",
       "      <th>10</th>\n",
       "      <td>1 test rd</td>\n",
       "      <td>1</td>\n",
       "      <td>1</td>\n",
       "    </tr>\n",
       "    <tr>\n",
       "      <th>11</th>\n",
       "      <td>8 Rich Millionaire Road</td>\n",
       "      <td>7000000</td>\n",
       "      <td>8000</td>\n",
       "    </tr>\n",
       "    <tr>\n",
       "      <th>12</th>\n",
       "      <td>2 Rich Millionaire Road</td>\n",
       "      <td>2000000</td>\n",
       "      <td>6000</td>\n",
       "    </tr>\n",
       "    <tr>\n",
       "      <th>13</th>\n",
       "      <td>3 Rich Millionaire Road</td>\n",
       "      <td>3000000</td>\n",
       "      <td>6350</td>\n",
       "    </tr>\n",
       "  </tbody>\n",
       "</table>\n",
       "</div>"
      ],
      "text/plain": [
       "                                 address  list_price  size\n",
       "0    404 Apprtment Building St. App. 201      210000  1200\n",
       "1     303 Apprtment Building St. App. 1A      340000  1600\n",
       "2     505 Apprtment Building St. App. 32      230000  1150\n",
       "3   101 Apprtment Building St. App. 1101       90000   600\n",
       "4                          202 House Rd.      350000  2400\n",
       "5                          101 House Rd.      320000  2100\n",
       "6                          303 House Rd.     3500000  5300\n",
       "7                          404 House Rd.     1200000  3400\n",
       "8                          502 House Rd.      490000  3100\n",
       "9    404 Apprtment Building St. App. 101      115000   800\n",
       "10                             1 test rd           1     1\n",
       "11               8 Rich Millionaire Road     7000000  8000\n",
       "12               2 Rich Millionaire Road     2000000  6000\n",
       "13               3 Rich Millionaire Road     3000000  6350"
      ]
     },
     "execution_count": 18,
     "metadata": {},
     "output_type": "execute_result"
    }
   ],
   "source": [
    "# query used to get house data\n",
    "# select address, list_price, size from listing\n",
    "house\n",
    "\n",
    "# col = list(house.columns)\n",
    "# # print(col)\n",
    "\n",
    "# df1 = house[[col[1], col[2]]]\n",
    "# # print(df1)\n",
    "\n",
    "# list_price = house[col[1]].tolist()\n",
    "# list_price = [x for x in list_price]\n",
    "# size = house[col[2]].tolist()\n",
    "# size = [x for x in size]"
   ]
  },
  {
   "cell_type": "code",
   "execution_count": 17,
   "metadata": {},
   "outputs": [
    {
     "data": {
      "image/png": "[encoded data removed]",
      "text/plain": [
       "<Figure size 432x288 with 1 Axes>"
      ]
     },
     "metadata": {
      "needs_background": "light"
     },
     "output_type": "display_data"
    }
   ],
   "source": [
    "# Using matplotlib\n",
    "plt.title(\"House Size vs Listing Price\", fontsize = 20)\n",
    "plt.xlabel(\"House Size (SqFt)\")\n",
    "plt.ylabel(\"House Price ($)\")\n",
    "\n",
    "plt.scatter(size, list_price)\n",
    "plt.show()"
   ]
  },
  {
   "cell_type": "code",
   "execution_count": 20,
   "metadata": {},
   "outputs": [
    {
     "data": {
      "text/plain": [
       "<matplotlib.axes._subplots.AxesSubplot at 0x11d96d978>"
      ]
     },
     "execution_count": 20,
     "metadata": {},
     "output_type": "execute_result"
    },
    {
     "data": {
      "image/png": "[encoded data removed]",
      "text/plain": [
       "<Figure size 432x288 with 1 Axes>"
      ]
     },
     "metadata": {
      "needs_background": "light"
     },
     "output_type": "display_data"
    }
   ],
   "source": [
    "# Using seaborn - easy oneliner\n",
    "import pandas as pd\n",
    "import seaborn as sns\n",
    "\n",
    "# ignore deprecation warning haha\n",
    "import warnings\n",
    "warnings.filterwarnings('ignore')\n",
    "\n",
    "sns.regplot(house['size'], house['list_price'])"
   ]
  },
  {
   "cell_type": "code",
   "execution_count": null,
   "metadata": {},
   "outputs": [],
   "source": []
  }
 ],
 "metadata": {
  "kernelspec": {
   "display_name": "Python 3",
   "language": "python",
   "name": "python3"
  },
  "language_info": {
   "codemirror_mode": {
    "name": "ipython",
    "version": 3
   },
   "file_extension": ".py",
   "mimetype": "text/x-python",
   "name": "python",
   "nbconvert_exporter": "python",
   "pygments_lexer": "ipython3",
   "version": "3.7.1"
  }
 },
 "nbformat": 4,
 "nbformat_minor": 2
}
